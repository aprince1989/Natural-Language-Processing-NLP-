{
  "nbformat": 4,
  "nbformat_minor": 0,
  "metadata": {
    "colab": {
      "name": "Tokenizing & Lemmatizing",
      "provenance": []
    },
    "kernelspec": {
      "name": "python3",
      "display_name": "Python 3"
    }
  },
  "cells": [
    {
      "cell_type": "code",
      "metadata": {
        "id": "OAOagOb2XWgE",
        "colab_type": "code",
        "colab": {}
      },
      "source": [
        "import spacy "
      ],
      "execution_count": null,
      "outputs": []
    },
    {
      "cell_type": "code",
      "metadata": {
        "id": "VB-8j5wpclcY",
        "colab_type": "code",
        "colab": {
          "base_uri": "https://localhost:8080/",
          "height": 54
        },
        "outputId": "d630a270-13ce-435d-c617-fd5a0f1912d0"
      },
      "source": [
        "\n",
        "print(dir(spacy))"
      ],
      "execution_count": null,
      "outputs": [
        {
          "output_type": "stream",
          "text": [
            "['Errors', 'Warnings', '__builtins__', '__cached__', '__doc__', '__file__', '__loader__', '__name__', '__package__', '__path__', '__spec__', '__version__', '_ml', 'about', 'analysis', 'attrs', 'blank', 'cli', 'cli_info', 'compat', 'component', 'deprecation_warning', 'displacy', 'errors', 'explain', 'glossary', 'gold', 'info', 'kb', 'lang', 'language', 'lemmatizer', 'lexeme', 'load', 'lookups', 'matcher', 'ml', 'morphology', 'parts_of_speech', 'pipeline', 'prefer_gpu', 'registry', 'require_gpu', 'scorer', 'strings', 'symbols', 'syntax', 'sys', 'tokenizer', 'tokens', 'unicode_literals', 'util', 'vectors', 'vocab', 'warnings']\n"
          ],
          "name": "stdout"
        }
      ]
    },
    {
      "cell_type": "markdown",
      "metadata": {
        "id": "LmqfkDPZ7DEP",
        "colab_type": "text"
      },
      "source": [
        "spaCy relies on models that are language-specific and come in different sizes. You can load a spaCy model with spacy.load.\n",
        "\n",
        "For example, here's how you would load the English language model."
      ]
    },
    {
      "cell_type": "code",
      "metadata": {
        "id": "EXql0Gc5cjop",
        "colab_type": "code",
        "colab": {}
      },
      "source": [
        "nlp = spacy.load('en')"
      ],
      "execution_count": null,
      "outputs": []
    },
    {
      "cell_type": "code",
      "metadata": {
        "id": "DhEgzCjuXfVC",
        "colab_type": "code",
        "colab": {}
      },
      "source": [
        "# process the text  with the model load\n",
        "text = \"It's never too early to dreaming of the perfect getaway. Booking now for a trip to look forward to later.\"\n",
        "doc = nlp(text)"
      ],
      "execution_count": null,
      "outputs": []
    },
    {
      "cell_type": "code",
      "metadata": {
        "id": "HE4BTY4w7eWo",
        "colab_type": "code",
        "colab": {
          "base_uri": "https://localhost:8080/",
          "height": 408
        },
        "outputId": "f39e7e6d-901e-4bc5-f634-de8e4e83e72d"
      },
      "source": [
        "#A token is a unit of text in the document, such as indiviual words and documents\n",
        "for token in doc:\n",
        "  print(token)"
      ],
      "execution_count": null,
      "outputs": [
        {
          "output_type": "stream",
          "text": [
            "It\n",
            "'s\n",
            "never\n",
            "too\n",
            "early\n",
            "to\n",
            "dreaming\n",
            "of\n",
            "the\n",
            "perfect\n",
            "getaway\n",
            ".\n",
            "Booking\n",
            "now\n",
            "for\n",
            "a\n",
            "trip\n",
            "to\n",
            "look\n",
            "forward\n",
            "to\n",
            "later\n",
            ".\n"
          ],
          "name": "stdout"
        }
      ]
    },
    {
      "cell_type": "code",
      "metadata": {
        "id": "j95mR-a_8B2Q",
        "colab_type": "code",
        "colab": {}
      },
      "source": [
        "#lemmatizing.\" The \"lemma\" of a word is its base form. For example, \"walk\" is the lemma of the word \"walking\". So, when you lemmatize the word walking, you would convert it to walk."
      ],
      "execution_count": null,
      "outputs": []
    },
    {
      "cell_type": "code",
      "metadata": {
        "id": "WY4PqcyL_X9z",
        "colab_type": "code",
        "colab": {
          "base_uri": "https://localhost:8080/",
          "height": 442
        },
        "outputId": "91e86f53-f094-47ed-d474-73c94dde7255"
      },
      "source": [
        "print(f\"Token \\t\\tLemma \\t\\tStopword\".format('Token', 'Lemma', 'Stopword'))\n",
        "print(\"-\"*40)\n",
        "for token in doc:\n",
        "    print(f\"{str(token)}\\t\\t{token.lemma_}\\t\\t{token.is_stop}\")"
      ],
      "execution_count": null,
      "outputs": [
        {
          "output_type": "stream",
          "text": [
            "Token \t\tLemma \t\tStopword\n",
            "----------------------------------------\n",
            "It\t\t-PRON-\t\tTrue\n",
            "'s\t\tbe\t\tTrue\n",
            "never\t\tnever\t\tTrue\n",
            "too\t\ttoo\t\tTrue\n",
            "early\t\tearly\t\tFalse\n",
            "to\t\tto\t\tTrue\n",
            "dreaming\t\tdream\t\tFalse\n",
            "of\t\tof\t\tTrue\n",
            "the\t\tthe\t\tTrue\n",
            "perfect\t\tperfect\t\tFalse\n",
            "getaway\t\tgetaway\t\tFalse\n",
            ".\t\t.\t\tFalse\n",
            "Booking\t\tbook\t\tFalse\n",
            "now\t\tnow\t\tTrue\n",
            "for\t\tfor\t\tTrue\n",
            "a\t\ta\t\tTrue\n",
            "trip\t\ttrip\t\tFalse\n",
            "to\t\tto\t\tTrue\n",
            "look\t\tlook\t\tFalse\n",
            "forward\t\tforward\t\tFalse\n",
            "to\t\tto\t\tTrue\n",
            "later\t\tlater\t\tFalse\n",
            ".\t\t.\t\tFalse\n"
          ],
          "name": "stdout"
        }
      ]
    }
  ]
}